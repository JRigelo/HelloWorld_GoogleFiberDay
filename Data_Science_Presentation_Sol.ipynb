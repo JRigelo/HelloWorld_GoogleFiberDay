{
 "cells": [
  {
   "cell_type": "markdown",
   "metadata": {},
   "source": [
    "# Data Science\n",
    "---"
   ]
  },
  {
   "cell_type": "markdown",
   "metadata": {},
   "source": [
    "## 1- Introduction\n",
    "### Using data to infer or predict future outcomes\n",
    "---\n",
    "Speaker 1: Gabriela\n",
    "* \"What is data science?\" \n",
    "* \"Data science is mainly a combination of math and statistics, computer science, and domain knowledge.\"\n",
    "\n",
    "* \"Data science finds information in data to make conclusions or predictions.\"\n",
    "\n",
    "* \"A popular aspect of data science is machine learning which is used in applications such as building self driving cars\""
   ]
  },
  {
   "cell_type": "markdown",
   "metadata": {},
   "source": [
    "![](Images/hello_intro.png)"
   ]
  },
  {
   "cell_type": "markdown",
   "metadata": {},
   "source": [
    "## 2 - Exploratory Data Analysis\n",
    "### Knowledge discovery through data exploration\n",
    "---\n",
    "A common first step for data scientists is to see what we can learn from the data."
   ]
  },
  {
   "cell_type": "markdown",
   "metadata": {},
   "source": [
    "Speaker 2: Theo\n",
    "* \"Let's explore some real data from passengers of the Titanic.\""
   ]
  },
  {
   "cell_type": "markdown",
   "metadata": {},
   "source": [
    "![](Images/Titanic_paper.jpg)"
   ]
  },
  {
   "cell_type": "markdown",
   "metadata": {},
   "source": [
    "Let's first load some libraries we might need for our analysis. Python is a programming language highly used by data scientists."
   ]
  },
  {
   "cell_type": "markdown",
   "metadata": {},
   "source": [
    "Speaker 2:\n",
    "\n",
    "* \"Python libraries provide more functions we can use for a specific purpose.\"\n",
    "* \"For instance, pandas helps us explore the data.\"\n",
    "* \"while matplotlib help us visualize the data.\""
   ]
  },
  {
   "cell_type": "code",
   "execution_count": null,
   "metadata": {
    "collapsed": true
   },
   "outputs": [],
   "source": [
    "import pandas\n",
    "import matplotlib.pyplot as plt\n",
    "import seaborn\n",
    "%matplotlib inline \n",
    "\n",
    "import warnings\n",
    "warnings.filterwarnings('ignore')"
   ]
  },
  {
   "cell_type": "markdown",
   "metadata": {},
   "source": [
    "Now we load in the data from a CSV file."
   ]
  },
  {
   "cell_type": "code",
   "execution_count": null,
   "metadata": {
    "collapsed": false
   },
   "outputs": [],
   "source": [
    "data = pandas.read_csv('Data/reduced_titanic.csv')"
   ]
  },
  {
   "cell_type": "markdown",
   "metadata": {},
   "source": [
    " \n",
    "Speaker 2 - [Describe the data...]\n",
    "* Survived 1 means He/She survived\n",
    "* Gender 1 means \"is a male\" \n",
    "* etc"
   ]
  },
  {
   "cell_type": "markdown",
   "metadata": {},
   "source": [
    "Let's see what the data looks like! "
   ]
  },
  {
   "cell_type": "code",
   "execution_count": null,
   "metadata": {
    "collapsed": false
   },
   "outputs": [],
   "source": [
    "#Speaker 2 code:\n",
    "data"
   ]
  },
  {
   "cell_type": "markdown",
   "metadata": {},
   "source": [
    "## Data Visualization\n",
    "### What can we learn if we plot survival by passenger gender?\n",
    "---"
   ]
  },
  {
   "cell_type": "markdown",
   "metadata": {},
   "source": [
    "Speaker 2:\n",
    "* \"We can use visualizations to help draw conclusions from large amounts of data.\""
   ]
  },
  {
   "cell_type": "code",
   "execution_count": null,
   "metadata": {
    "collapsed": false
   },
   "outputs": [],
   "source": [
    "#Speaker 2 code:\n",
    "seaborn.barplot(x='Gender', y='Survived', data=data)"
   ]
  },
  {
   "cell_type": "markdown",
   "metadata": {},
   "source": [
    "Speaker 2:\n",
    "* \"What can we infer from this graph?\"\n",
    "* \"Why do you think women had a higher survival rate?\""
   ]
  },
  {
   "cell_type": "markdown",
   "metadata": {},
   "source": [
    "## 3 - Data Science Models\n",
    "### Learning from the data to make a prediction\n",
    "---"
   ]
  },
  {
   "cell_type": "markdown",
   "metadata": {},
   "source": [
    "Speaker 3: Auveed\n",
    "* \"They use a set of rules and learns from the data to produce a result of interest\"\n",
    "* \"For example, if a new passanger would survive based on He/She characteristics...\"\n"
   ]
  },
  {
   "cell_type": "markdown",
   "metadata": {},
   "source": [
    "![](Images/DT_Titanic.png)"
   ]
  },
  {
   "cell_type": "markdown",
   "metadata": {},
   "source": [
    "## Decision Trees \n",
    "### Models possible consequences for the observations using a tree structure\n",
    "---"
   ]
  },
  {
   "cell_type": "markdown",
   "metadata": {},
   "source": [
    "Decision trees are sort of a more complex \"if-and-else statement\""
   ]
  },
  {
   "cell_type": "markdown",
   "metadata": {},
   "source": [
    "On the code below we can choose the \"path\" or part of code to use depending on a \"decision\" or condition."
   ]
  },
  {
   "cell_type": "markdown",
   "metadata": {},
   "source": [
    "Speaker 3:\n",
    "* \" For example if it is cold today, we will access the second \n",
    "    print statement\" "
   ]
  },
  {
   "cell_type": "markdown",
   "metadata": {},
   "source": [
    "Which part of the code we access if we writte sunny instead?"
   ]
  },
  {
   "cell_type": "code",
   "execution_count": null,
   "metadata": {
    "collapsed": false
   },
   "outputs": [],
   "source": [
    "#What is happening to the weather today?\n",
    "\n",
    "weather = raw_input(\"What is the weather like: \")\n",
    "\n",
    "if weather == \"raining\":\n",
    "    print(\"Take an umbrella\")\n",
    "    \n",
    "elif weather == \"cold\":\n",
    "    print(\"Take a coat\")\n",
    "    \n",
    "elif weather == \"sunny\":\n",
    "    print(\"Wear sunscreen\")\n",
    "    \n",
    "else:\n",
    "    print(\"Have a good day, whatever the weather!\")"
   ]
  },
  {
   "cell_type": "markdown",
   "metadata": {},
   "source": [
    "Similarly the decision tree above is showing possible paths of our dataset..."
   ]
  },
  {
   "cell_type": "code",
   "execution_count": null,
   "metadata": {
    "collapsed": true
   },
   "outputs": [],
   "source": [
    "Speaker 3:\n",
    "* \" And the chances of survival depending on the characteristics of each path\"\n",
    "* \" Like if it is male and from 3rd class, etc..\""
   ]
  },
  {
   "cell_type": "markdown",
   "metadata": {
    "collapsed": true
   },
   "source": [
    "## 4- Training our Model\n",
    "### Since we don't have new data we can split our data into training and test sets:"
   ]
  },
  {
   "cell_type": "markdown",
   "metadata": {},
   "source": [
    "* training (to train our model)\n",
    "* test (used as new data to test our model)"
   ]
  },
  {
   "cell_type": "markdown",
   "metadata": {},
   "source": [
    "Speaker 4: Olivia\n",
    "* \" The test data can check if our model works well for a new dataset\n",
    "* \" How close our predictions get to the real results\""
   ]
  },
  {
   "cell_type": "markdown",
   "metadata": {},
   "source": [
    "Now we split the data and drop the results column \"Survived\" since that is what we aim to predict "
   ]
  },
  {
   "cell_type": "code",
   "execution_count": null,
   "metadata": {
    "collapsed": false
   },
   "outputs": [],
   "source": [
    "#Split the data into X_train, X_test, y_train, and y_test\n",
    "from sklearn.cross_validation import train_test_split\n",
    "X_train, X_test, y_train, y_test = train_test_split(\n",
    "    data.drop('Survived', axis=1), data['Survived'], test_size=0.33, random_state=42)\n",
    "X_train.head()"
   ]
  },
  {
   "cell_type": "markdown",
   "metadata": {},
   "source": [
    "Next, we train our model using the training data. \n"
   ]
  },
  {
   "cell_type": "code",
   "execution_count": null,
   "metadata": {
    "collapsed": true
   },
   "outputs": [],
   "source": [
    "from sklearn import tree\n",
    "from sklearn.tree import DecisionTreeClassifier\n",
    "\n",
    "decision_tree = DecisionTreeClassifier()"
   ]
  },
  {
   "cell_type": "markdown",
   "metadata": {},
   "source": [
    "Training our model with two features, Gender and Class."
   ]
  },
  {
   "cell_type": "code",
   "execution_count": null,
   "metadata": {
    "collapsed": false
   },
   "outputs": [],
   "source": [
    "features = ['Gender', 'Class']\n",
    "model = decision_tree.fit(X_train[features], y_train)"
   ]
  },
  {
   "cell_type": "markdown",
   "metadata": {},
   "source": [
    "Visualizing the decision tree we just trained."
   ]
  },
  {
   "cell_type": "code",
   "execution_count": null,
   "metadata": {
    "collapsed": false
   },
   "outputs": [],
   "source": [
    "import pydotplus as pydot\n",
    "from IPython.display import Image\n",
    "from sklearn.externals.six import StringIO\n",
    "\n",
    "dot_data = StringIO()\n",
    "tree.export_graphviz(model, out_file=dot_data,feature_names=features,\n",
    "                     class_names=['Dead', 'Survived'],\n",
    "                     filled=True, rounded=True,  \n",
    "                         special_characters=True)\n",
    "\n",
    "graph = pydot.graph_from_dot_data(dot_data.getvalue())\n",
    "Image(graph.create_png())"
   ]
  },
  {
   "cell_type": "markdown",
   "metadata": {},
   "source": [
    "## 5- Making a Prediction\n",
    "### Let's check if a \"new\" passanger would survive depending on his/hers characteristics"
   ]
  },
  {
   "cell_type": "markdown",
   "metadata": {},
   "source": [
    "Speaker 5: Sanddhya  \n",
    "For the cells below run all for two different cases:   \n",
    "1) use female (denominated by 0) and class 1  \n",
    "2) use male (denominated by 1) and class 3   \n",
    "we want to see that one survives and the the other not :) "
   ]
  },
  {
   "cell_type": "markdown",
   "metadata": {},
   "source": [
    "What Gender and Class shall we give to our new passenger?"
   ]
  },
  {
   "cell_type": "code",
   "execution_count": null,
   "metadata": {
    "collapsed": false
   },
   "outputs": [],
   "source": [
    "# Speaker 5 code:\n",
    "Gender = 0 # or what people suggest\n",
    "Class = 1 # or what people suggest\n",
    "\n",
    "Result = decision_tree.predict([Gender, Class])"
   ]
  },
  {
   "cell_type": "code",
   "execution_count": null,
   "metadata": {
    "collapsed": true
   },
   "outputs": [],
   "source": [
    "Survive_Prob = decision_tree.predict_proba([Gender, Class])[0,1]*100"
   ]
  },
  {
   "cell_type": "markdown",
   "metadata": {},
   "source": [
    "Would our new passanger survive or not?"
   ]
  },
  {
   "cell_type": "code",
   "execution_count": null,
   "metadata": {
    "collapsed": false,
    "scrolled": true
   },
   "outputs": [],
   "source": [
    "####################### Decision Tree Prediction #######################\n",
    "if Result==1: \n",
    "    print 'He/She has a {0:.2f}% chance of survival! :)'.format(Survive_Prob)\n",
    "else: \n",
    "    print 'He/She has a {0:.2f}% chance of survival :('.format(Survive_Prob)"
   ]
  },
  {
   "cell_type": "markdown",
   "metadata": {},
   "source": [
    "Speaker 5:\n",
    "    \n",
    "As you can see the model is predicting would happend to a new person based on what happened to all the passengers\n",
    "\n",
    "Thank you!!"
   ]
  },
  {
   "cell_type": "code",
   "execution_count": null,
   "metadata": {
    "collapsed": true
   },
   "outputs": [],
   "source": []
  }
 ],
 "metadata": {
  "kernelspec": {
   "display_name": "Python 2",
   "language": "python",
   "name": "python2"
  },
  "language_info": {
   "codemirror_mode": {
    "name": "ipython",
    "version": 2
   },
   "file_extension": ".py",
   "mimetype": "text/x-python",
   "name": "python",
   "nbconvert_exporter": "python",
   "pygments_lexer": "ipython2",
   "version": "2.7.12"
  }
 },
 "nbformat": 4,
 "nbformat_minor": 0
}
