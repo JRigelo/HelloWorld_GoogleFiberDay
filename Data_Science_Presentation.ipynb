{
 "cells": [
  {
   "cell_type": "markdown",
   "metadata": {},
   "source": [
    "# Data Science\n",
    "---"
   ]
  },
  {
   "cell_type": "markdown",
   "metadata": {},
   "source": [
    "## 1- Introduction\n",
    "### Using data to infer or predict future outcomes\n",
    "---\n",
    "Speaker 1:\n",
    "* \"What is data science?\" \n",
    "* \"A popular aspect of data science is machine learning which is used in applications such as building self driving cars\"\n",
    "* \"Data science is mainly a combination of math and statistics, computer science, and domain knowledge.\""
   ]
  },
  {
   "cell_type": "markdown",
   "metadata": {},
   "source": [
    "![](Images/hello_intro.png)"
   ]
  },
  {
   "cell_type": "markdown",
   "metadata": {},
   "source": [
    "## 2 - Exploratory Data Analysis\n",
    "### Knowledge discovery through data exploration\n",
    "---\n",
    "Speaker 2:\n",
    "* \"A common first step for data scienctists is to see what we can learn from the data.\"\n",
    "* \"Let's explore some real data from passengers of the Titanic.\""
   ]
  },
  {
   "cell_type": "markdown",
   "metadata": {},
   "source": [
    "![](Images/Titanic_paper.jpg)"
   ]
  },
  {
   "cell_type": "markdown",
   "metadata": {},
   "source": [
    "Let's first load some libraries we might need for our analysis. "
   ]
  },
  {
   "cell_type": "markdown",
   "metadata": {},
   "source": [
    "Speaker 2:\n",
    "* \"Python is a programming language highly used by data scientists.\"\n",
    "* \"Libraries provide more functions we can use for a specific purpose.\"\n",
    "* \"For instance, pandas helps us explore the data.\"\n",
    "* \"while matplotlib help us visualize the data.\""
   ]
  },
  {
   "cell_type": "code",
   "execution_count": null,
   "metadata": {
    "collapsed": true
   },
   "outputs": [],
   "source": [
    "import pandas\n",
    "import matplotlib.pyplot as plt\n",
    "import seaborn\n",
    "%matplotlib inline "
   ]
  },
  {
   "cell_type": "markdown",
   "metadata": {},
   "source": [
    "Now we load in the data from a CSV file."
   ]
  },
  {
   "cell_type": "code",
   "execution_count": null,
   "metadata": {
    "collapsed": false
   },
   "outputs": [],
   "source": [
    "data = pandas.read_csv('Data/reduced_titanic.csv')"
   ]
  },
  {
   "cell_type": "markdown",
   "metadata": {},
   "source": [
    " \n",
    "Speaker 2 - [Describe the data...]\n",
    "* Survived 1 means He/She survived\n",
    "* Gender 1 means \"is a male\" \n",
    "* etc"
   ]
  },
  {
   "cell_type": "markdown",
   "metadata": {},
   "source": [
    "Let's see what the data looks like! "
   ]
  },
  {
   "cell_type": "code",
   "execution_count": null,
   "metadata": {
    "collapsed": false
   },
   "outputs": [],
   "source": [
    "#Speaker 2 code:\n",
    "#data"
   ]
  },
  {
   "cell_type": "markdown",
   "metadata": {},
   "source": [
    "## 3 - Data Visualization\n",
    "### What can we learn if we plot survival by passenger gender?\n",
    "---"
   ]
  },
  {
   "cell_type": "markdown",
   "metadata": {},
   "source": [
    "Speaker 3:\n",
    "* \"We can use visualizations to help draw conclusions from large amounts of data.\""
   ]
  },
  {
   "cell_type": "code",
   "execution_count": null,
   "metadata": {
    "collapsed": false
   },
   "outputs": [],
   "source": [
    "#Speaker 3 code:\n",
    "#seaborn.barplot(x='Gender', y='Survived', data=data)"
   ]
  },
  {
   "cell_type": "markdown",
   "metadata": {},
   "source": [
    "Speaker 3:\n",
    "* \"What can we infer from this graph?\"\n",
    "* \"Why do you think women had a higher survival rate?\""
   ]
  },
  {
   "cell_type": "markdown",
   "metadata": {},
   "source": [
    "## 4 - Data Science Models\n",
    "### Learning from the data to make a prediction\n",
    "---"
   ]
  },
  {
   "cell_type": "markdown",
   "metadata": {},
   "source": [
    "Speaker 4:\n",
    "* \"They use a set of rules and learns from the data to produce a result of interest\"\n",
    "* \"For example, if a new passanger would survive based on He/She characteristics...\"\n"
   ]
  },
  {
   "cell_type": "markdown",
   "metadata": {},
   "source": [
    "![](Images/DT_Titanic.png)"
   ]
  },
  {
   "cell_type": "markdown",
   "metadata": {},
   "source": [
    "## 5- Decision Trees \n",
    "### Models possible consequences for the observations using a tree structure\n",
    "---"
   ]
  },
  {
   "cell_type": "markdown",
   "metadata": {},
   "source": [
    "Decision trees are sort of a more complex \"if-and-else statement\""
   ]
  },
  {
   "cell_type": "markdown",
   "metadata": {},
   "source": [
    "Speaker 5:\n",
    "* \" On the code below we can choose the \"path\" or part of code to use depending on a \"decision\" or condition.\"\n",
    "* \" For example if it is cold today, we will access the second \n",
    "    print statement\" \n",
    "* \" Which part of the code we access if we writte sunny instead?\"\n"
   ]
  },
  {
   "cell_type": "markdown",
   "metadata": {},
   "source": [
    "Speaker 5:\n",
    "* \" Similarly the decision tree above is showing possible paths of our dataset\"\n",
    "* \" And the chances of survival depending on the characteristics of each path\"\n",
    "* \" Like if it is male and from 3rd class, etc..\""
   ]
  },
  {
   "cell_type": "code",
   "execution_count": null,
   "metadata": {
    "collapsed": false
   },
   "outputs": [],
   "source": [
    "#What is happening to the weather today?\n",
    "\n",
    "weather = raw_input(\"What is the weather like: \")\n",
    "\n",
    "if weather == \"raining\":\n",
    "    print(\"Take an umbrella\")\n",
    "    \n",
    "elif weather == \"cold\":\n",
    "    print(\"Take a coat\")\n",
    "    \n",
    "elif weather == \"sunny\":\n",
    "    print(\"Wear sunscreen\")\n",
    "    \n",
    "else:\n",
    "    print(\"Have a good day, whatever the weather!\")"
   ]
  },
  {
   "cell_type": "markdown",
   "metadata": {
    "collapsed": true
   },
   "source": [
    "## 6- Making a Prediction\n",
    "### Let's check if a \"new\" passanger would survive depending on his/hers characteristics"
   ]
  },
  {
   "cell_type": "markdown",
   "metadata": {},
   "source": [
    "Speaker 6:\n",
    "* \" The test data can check if our model works well for a new dataset\n",
    "* \" How close our predictions get to the real results\""
   ]
  },
  {
   "cell_type": "markdown",
   "metadata": {},
   "source": [
    "Since we don't have new data we can split our data into:  \n",
    "* trainning (to train our model)\n",
    "* test (used as new data to test our model)"
   ]
  },
  {
   "cell_type": "markdown",
   "metadata": {},
   "source": [
    "Speaker 6:\n",
    "* \" We drop the results column \"Survived\" since that is what we aim to   predict "
   ]
  },
  {
   "cell_type": "code",
   "execution_count": null,
   "metadata": {
    "collapsed": false
   },
   "outputs": [],
   "source": [
    "#Split the data into X_train, X_test, y_train, and y_test\n",
    "from sklearn.cross_validation import train_test_split\n",
    "X_train, X_test, y_train, y_test = train_test_split(\n",
    "    data.drop('Survived', axis=1), data['Survived'], test_size=0.33, random_state=42)\n",
    "X_train.head()"
   ]
  },
  {
   "cell_type": "markdown",
   "metadata": {},
   "source": [
    "Speaker 6:\n",
    "* \" Next, we train our model using the training data \n"
   ]
  },
  {
   "cell_type": "code",
   "execution_count": null,
   "metadata": {
    "collapsed": true
   },
   "outputs": [],
   "source": [
    "from sklearn import tree\n",
    "from sklearn.tree import DecisionTreeClassifier\n",
    "\n",
    "decision_tree = DecisionTreeClassifier()"
   ]
  },
  {
   "cell_type": "code",
   "execution_count": null,
   "metadata": {
    "collapsed": false
   },
   "outputs": [],
   "source": [
    "# Speaker 6 code:\n",
    "# Trainning our model with two features\n",
    "features = ['Gender', 'Class']\n",
    "#model = decision_tree.fit(X_train[features], y_train)"
   ]
  },
  {
   "cell_type": "markdown",
   "metadata": {},
   "source": [
    "What Gender and Class shall we give to our new passenger?"
   ]
  },
  {
   "cell_type": "code",
   "execution_count": null,
   "metadata": {
    "collapsed": false
   },
   "outputs": [],
   "source": [
    "# Speaker 6 code:\n",
    "#Gender = 0 # or what people suggest\n",
    "#Class = 1 # or what people suggest\n",
    "#Result = tree.predict([Gender, Class])"
   ]
  },
  {
   "cell_type": "code",
   "execution_count": null,
   "metadata": {
    "collapsed": false
   },
   "outputs": [],
   "source": [
    "####################### Decision Tree Prediction #######################\n",
    "if Result==1: \n",
    "    print 'He/She would survived! :)'\n",
    "else: \n",
    "    print 'He/She would not survive :('"
   ]
  }
 ],
 "metadata": {
  "kernelspec": {
   "display_name": "Python 2",
   "language": "python",
   "name": "python2"
  },
  "language_info": {
   "codemirror_mode": {
    "name": "ipython",
    "version": 2
   },
   "file_extension": ".py",
   "mimetype": "text/x-python",
   "name": "python",
   "nbconvert_exporter": "python",
   "pygments_lexer": "ipython2",
   "version": "2.7.12"
  }
 },
 "nbformat": 4,
 "nbformat_minor": 0
}
